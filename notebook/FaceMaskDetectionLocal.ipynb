{
 "cells": [
  {
   "cell_type": "code",
   "execution_count": 1,
   "metadata": {},
   "outputs": [],
   "source": [
    "from pyspark.sql import SparkSession\n",
    "from pyspark.sql import functions as f\n",
    "from PIL import Image\n",
    "import io\n",
    "import cv2\n",
    "import numpy as np\n",
    "import tensorflow as tf\n",
    "import os\n",
    "import time\n",
    "\n",
    "from pyspark.sql.types import StringType, ArrayType, BooleanType\n",
    "from IPython.display import display, clear_output,Image"
   ]
  },
  {
   "cell_type": "markdown",
   "metadata": {},
   "source": [
    "# 1. Setup the input, output path for image and model"
   ]
  },
  {
   "cell_type": "code",
   "execution_count": 2,
   "metadata": {
    "pycharm": {
     "name": "#%%\n"
    }
   },
   "outputs": [],
   "source": [
    "image_input_folder_path = \"/tmp/sparkcv/input/\"\n",
    "faces_output_path = \"/tmp/sparkcv/output/faces\"\n",
    "final_output_path = \"/tmp/sparkcv/output/final\"\n",
    "cascade_model_path = \"/mnt/hgfs/Centos7_share_folder/trained_models\"\n",
    "cascade_model_name = \"haarcascade_frontalface_default.xml\"\n",
    "vgg19_model_path = \"/mnt/hgfs/Centos7_share_folder/trained_models\"\n",
    "vgg19_model_name = \"masknet.h5\"\n"
   ]
  },
  {
   "cell_type": "markdown",
   "metadata": {},
   "source": [
    "# 2. Create a spark session"
   ]
  },
  {
   "cell_type": "code",
   "execution_count": 3,
   "metadata": {
    "pycharm": {
     "name": "#%%\n"
    }
   },
   "outputs": [],
   "source": [
    "spark = SparkSession.builder \\\n",
    "    .master(\"local\") \\\n",
    "    .appName(\"StreamingExample\") \\\n",
    "    .config(\"spark.sql.extensions\", \"io.delta.sql.DeltaSparkSessionExtension\") \\\n",
    "    .config(\"spark.sql.catalog.spark_catalog\", \"org.apache.spark.sql.delta.catalog.DeltaCatalog\") \\\n",
    "    .getOrCreate()"
   ]
  },
  {
   "cell_type": "markdown",
   "metadata": {},
   "source": [
    "## 2.1 helper functions"
   ]
  },
  {
   "cell_type": "markdown",
   "metadata": {
    "pycharm": {
     "name": "#%% md\n"
    }
   },
   "source": [
    "### 2.1.1 face extraction spark udf"
   ]
  },
  {
   "cell_type": "code",
   "execution_count": 4,
   "metadata": {},
   "outputs": [],
   "source": [
    "def face_extraction(image_name):\n",
    "    image_path = image_input_folder_path + image_name\n",
    "\n",
    "    img = cv2.imread(image_path)\n",
    "    img = cv2.cvtColor(img, cv2.IMREAD_GRAYSCALE)\n",
    "    face_model = cv2.CascadeClassifier(\"{}/{}\".format(cascade_model_path,cascade_model_name))\n",
    "    faces = face_model.detectMultiScale(img, scaleFactor=1.1, minNeighbors=4)  # returns a list of (x,y,w,h) tuples\n",
    "    img = cv2.cvtColor(img, cv2.COLOR_RGB2BGR)\n",
    "\n",
    "    # Extract faces from the origin image\n",
    "    extracted_face_list = []\n",
    "    for i in range(len(faces)):\n",
    "        (x, y, w, h) = faces[i]\n",
    "        crop = img[y:y + h, x:x + w]\n",
    "        extracted_face_img_name = image_name[:-4] + \"_x\" + str(x) + \"_y\" + str(y) + \"_w\" + str(\n",
    "            w) + \"_h\" + str(h) + \".png\"\n",
    "        extracted_face_list.append(extracted_face_img_name)\n",
    "        extracted_face_output_path = \"{}/{}\".format(faces_output_path, extracted_face_img_name)\n",
    "        cv2.imwrite(extracted_face_output_path, crop)\n",
    "\n",
    "    return extracted_face_list\n",
    "\n",
    "Face_Extraction_UDF = f.udf(lambda image_name: face_extraction(image_name), ArrayType(StringType()))\n"
   ]
  },
  {
   "cell_type": "markdown",
   "metadata": {
    "pycharm": {
     "name": "#%% md\n"
    }
   },
   "source": [
    "### 2.1.2 column function for extract image name\n"
   ]
  },
  {
   "cell_type": "code",
   "execution_count": 5,
   "metadata": {
    "pycharm": {
     "name": "#%%\n"
    }
   },
   "outputs": [],
   "source": [
    "def extract_file_name(path):\n",
    "    return f.substring_index(path, \"/\", -1)"
   ]
  },
  {
   "cell_type": "markdown",
   "metadata": {
    "pycharm": {
     "name": "#%% md\n"
    }
   },
   "source": [
    "### 2.1.3 mask detection spark udf\n"
   ]
  },
  {
   "cell_type": "code",
   "execution_count": 6,
   "metadata": {
    "pycharm": {
     "name": "#%%\n"
    }
   },
   "outputs": [],
   "source": [
    "# This function use a pre-trained vgg19 model to predict if it has mask or no. It returns true, if it has mask.\n",
    "def face_mask_prediction(face_image_name):\n",
    "    # read raw face image\n",
    "    img = cv2.imread(\"{}/{}\".format(faces_output_path, face_image_name))\n",
    "    # normalize the raw image for vgg19 model\n",
    "    img = cv2.resize(img, (128, 128))\n",
    "    # plt.imshow(img)\n",
    "    # plt.show()\n",
    "    img = np.reshape(img, [1, 128, 128, 3])\n",
    "    img = img / 255.0\n",
    "    vgg19_model = tf.keras.models.load_model(\"{}/{}\".format(vgg19_model_path, vgg19_model_name))\n",
    "    score = vgg19_model.predict(img)\n",
    "    if np.argmax(score) == 0:\n",
    "        res = True\n",
    "    else:\n",
    "        res = False\n",
    "    # print(res)\n",
    "    return res\n",
    "\n",
    "\n",
    "Face_Mask_Prediction_UDF = f.udf(lambda face_image_name: face_mask_prediction(face_image_name), BooleanType())"
   ]
  },
  {
   "cell_type": "markdown",
   "metadata": {
    "pycharm": {
     "name": "#%% md\n"
    }
   },
   "source": [
    "### 2.1.4 get face position in origin image"
   ]
  },
  {
   "cell_type": "code",
   "execution_count": 7,
   "metadata": {
    "pycharm": {
     "name": "#%%\n"
    }
   },
   "outputs": [],
   "source": [
    "def get_face_coordinate_of_origin_image(face_image_name):\n",
    "    x = face_image_name.split(\"_\")[1][1:]\n",
    "    y = face_image_name.split(\"_\")[2][1:]\n",
    "    w = face_image_name.split(\"_\")[3][1:]\n",
    "    h = face_image_name.split(\"_\")[4][1:].split('.')[0]\n",
    "    return int(x), int(y), int(w), int(h)"
   ]
  },
  {
   "cell_type": "markdown",
   "metadata": {
    "pycharm": {
     "name": "#%% md\n"
    }
   },
   "source": [
    "### 2.1.5 prediction integration spark udf\n"
   ]
  },
  {
   "cell_type": "code",
   "execution_count": 8,
   "metadata": {
    "pycharm": {
     "name": "#%%\n"
    }
   },
   "outputs": [],
   "source": [
    "def integrate_face_mask_prediction(face_image_name, origin_image_name, has_mask):\n",
    "    # check if the image is already treated or not, if yes, it means it has multiple faces. and we just add new mask\n",
    "    # prediction to untreated faces.\n",
    "    # If not treated, we load image from\n",
    "    treated_image_path = \"{}/{}\".format(final_output_path, origin_image_name)\n",
    "    # If the image is treated, update the treated image\n",
    "    if os.path.isfile(treated_image_path):\n",
    "        image = cv2.imread(treated_image_path)\n",
    "    else:\n",
    "        # Get the untreated image from input\n",
    "        image = cv2.imread(\"{}/{}\".format(image_input_folder_path, origin_image_name))\n",
    "\n",
    "    # set Label text\n",
    "    if has_mask:\n",
    "        mask_label = \"MASK\"\n",
    "    else:\n",
    "        mask_label = \"NO MASK\"\n",
    "    # Get the coordinate and size of face image\n",
    "    (x, y, w, h) = get_face_coordinate_of_origin_image(face_image_name)\n",
    "\n",
    "    # Set text color for mask label\n",
    "    mask_label_color = {\"MASK\": (0, 255, 0), \"NO MASK\": (0, 0, 255)}\n",
    "\n",
    "    # Insert mask label to image\n",
    "    image = cv2.putText(image, mask_label, (x, y - 10), cv2.FONT_HERSHEY_SIMPLEX, 0.5,\n",
    "                        mask_label_color[mask_label], 2)\n",
    "    # Insert a rectangle around the face\n",
    "    image = cv2.rectangle(image, (x, y), (x + w, y + h), mask_label_color[mask_label], 1)\n",
    "    # Save the image\n",
    "    cv2.imwrite(treated_image_path, image)\n",
    "\n",
    "    return \"Done\"\n",
    "\n",
    "\n",
    "Integrate_Face_Mask_Prediction_UDF = f.udf(\n",
    "    lambda face_image_name, origin_image_name, has_mask: integrate_face_mask_prediction(face_image_name,\n",
    "                                                                                        origin_image_name, has_mask))"
   ]
  },
  {
   "cell_type": "code",
   "execution_count": 9,
   "metadata": {
    "pycharm": {
     "name": "#%%\n"
    }
   },
   "outputs": [],
   "source": [
    "def show_df(df, epoch_id):\n",
    "    df.show(5, False)\n",
    "    pass\n"
   ]
  },
  {
   "cell_type": "markdown",
   "metadata": {
    "pycharm": {
     "name": "#%% md\n"
    }
   },
   "source": [
    "### 2.1.6 render image in jupyter notebook\n",
    "\n",
    "\n"
   ]
  },
  {
   "cell_type": "code",
   "execution_count": 10,
   "metadata": {
    "pycharm": {
     "name": "#%%\n"
    }
   },
   "outputs": [],
   "source": [
    "def render_image(image_folder_path, image_list):\n",
    "    for image_name in image_list:\n",
    "        image_path = \"{}/{}\".format(image_folder_path,image_name)\n",
    "        display(Image(filename=image_path))\n"
   ]
  },
  {
   "cell_type": "markdown",
   "metadata": {},
   "source": [
    "# 3. Process image"
   ]
  },
  {
   "cell_type": "markdown",
   "metadata": {},
   "source": [
    "To check if everyone wears a face mask or not in an image, we will follow the below steps:\n",
    "1. Read raw image\n",
    "2. Detect faces from the raw image, output extracted faces as single images(haar-cascade)\n",
    "3. Use a pre-trained vgg19 model to check if a mask is worn\n",
    "4. Integrate prediction as tags on origin image"
   ]
  },
  {
   "cell_type": "markdown",
   "metadata": {},
   "source": [
    "## 3.1 Read raw image"
   ]
  },
  {
   "cell_type": "code",
   "execution_count": 11,
   "metadata": {},
   "outputs": [],
   "source": [
    "image_schema = spark.read.format(\"binaryFile\").load(image_input_folder_path).schema\n",
    "raw_image_df_stream = spark.readStream \\\n",
    "    .format(\"binaryFile\") \\\n",
    "    .schema(image_schema) \\\n",
    "    .option(\"maxFilesPerTrigger\", \"500\") \\\n",
    "    .option(\"recursiveFileLookup\", \"true\") \\\n",
    "    .option(\"pathGlobFilter\", \"*.png\") \\\n",
    "    .load(image_input_folder_path) \\\n",
    "    .withColumn(\"time_stamp\", f.current_timestamp())\n"
   ]
  },
  {
   "cell_type": "markdown",
   "metadata": {
    "pycharm": {
     "name": "#%% md\n"
    }
   },
   "source": [
    "## 3.2 Detect faces and output extracted each face as a single image"
   ]
  },
  {
   "cell_type": "code",
   "execution_count": 12,
   "metadata": {
    "pycharm": {
     "name": "#%%\n"
    }
   },
   "outputs": [],
   "source": [
    "# get the image name df\n",
    "image_name_df = raw_image_df_stream \\\n",
    "    .select(\"path\",\"time_stamp\") \\\n",
    "    .withColumn(\"origin_image_name\", extract_file_name(f.col(\"path\"))) \\\n",
    "    .drop(\"path\")\n",
    "\n",
    "# run the face detection function on each row\n",
    "detected_face_list_df = image_name_df.withColumn(\"detected_face_list\", Face_Extraction_UDF(\"origin_image_name\"))\n",
    "\n",
    "detected_face_df = detected_face_list_df \\\n",
    "                   .withColumn(\"extracted_face_image_name\",f.explode(f.col(\"detected_face_list\")))\\\n",
    "                   .drop(\"detected_face_list\")"
   ]
  },
  {
   "cell_type": "markdown",
   "metadata": {
    "pycharm": {
     "name": "#%% md\n"
    }
   },
   "source": [
    "## 3.3 predict if the face wear mask or not"
   ]
  },
  {
   "cell_type": "code",
   "execution_count": 13,
   "metadata": {
    "pycharm": {
     "name": "#%%\n"
    }
   },
   "outputs": [],
   "source": [
    "predict_mask_df_stream = detected_face_df.withColumn(\"has_mask\",\n",
    "                                                    Face_Mask_Prediction_UDF(\"extracted_face_image_name\"))\n"
   ]
  },
  {
   "cell_type": "markdown",
   "metadata": {
    "pycharm": {
     "name": "#%% md\n"
    }
   },
   "source": [
    "## 3.4: Integrate faces with tag to origin image\n"
   ]
  },
  {
   "cell_type": "code",
   "execution_count": 14,
   "metadata": {
    "pycharm": {
     "name": "#%%\n"
    }
   },
   "outputs": [],
   "source": [
    "complete_df_stream = predict_mask_df_stream.withColumn(\"integration\",\n",
    "                                                Integrate_Face_Mask_Prediction_UDF(\"extracted_face_image_name\",\n",
    "                                                                                   \"origin_image_name\",\n",
    "                                                                                   \"has_mask\"))"
   ]
  },
  {
   "cell_type": "code",
   "execution_count": 15,
   "metadata": {},
   "outputs": [
    {
     "name": "stdout",
     "output_type": "stream",
     "text": [
      "[]\n"
     ]
    }
   ],
   "source": [
    "query_list=spark.streams.active\n",
    "    \n",
    "print(query_list)"
   ]
  },
  {
   "cell_type": "markdown",
   "metadata": {
    "pycharm": {
     "name": "#%% md\n"
    }
   },
   "source": [
    "# 4. View the output data frame and image"
   ]
  },
  {
   "cell_type": "code",
   "execution_count": 16,
   "metadata": {},
   "outputs": [],
   "source": [
    "\n",
    "# stream = raw_image_df_stream.writeStream \\\n",
    "#     .format(\"memory\") \\\n",
    "#     .option(\"truncate\", \"false\") \\\n",
    "#     .trigger(processingTime='2 seconds') \\\n",
    "#     .queryName(\"raw_image_df_stream\") \\\n",
    "#     .start()\n",
    "\n",
    "stream = complete_df_stream.withWatermark(\"time_stamp\", \"10 seconds\") \\\n",
    "    .writeStream \\\n",
    "    .outputMode(\"append\") \\\n",
    "    .format(\"memory\") \\\n",
    "    .queryName(\"raw_image_df_stream\") \\\n",
    "    .start()"
   ]
  },
  {
   "cell_type": "code",
   "execution_count": null,
   "metadata": {},
   "outputs": [
    {
     "data": {
      "text/plain": [
       "{'message': 'Processing new data',\n",
       " 'isDataAvailable': True,\n",
       " 'isTriggerActive': True}"
      ]
     },
     "metadata": {},
     "output_type": "display_data"
    }
   ],
   "source": [
    "for x in range(20):\n",
    "    clear_output(wait=True)\n",
    "    display(stream.status)\n",
    "    _df=spark.sql('SELECT * FROM raw_image_df_stream')\n",
    "    col_name=\"origin_image_name\"\n",
    "    if _df.count()>0:\n",
    "        display(_df.show(10,False))\n",
    "        img_list=_df.select(col_name).distinct().toPandas()[col_name]\n",
    "        display(img_list)\n",
    "        render_image(final_output_path,img_list)\n",
    "    time.sleep(5)\n"
   ]
  },
  {
   "cell_type": "code",
   "execution_count": null,
   "metadata": {},
   "outputs": [],
   "source": [
    "stream.awaitTermination(200)"
   ]
  },
  {
   "cell_type": "code",
   "execution_count": null,
   "metadata": {},
   "outputs": [],
   "source": [
    "stream.stop()"
   ]
  },
  {
   "cell_type": "code",
   "execution_count": null,
   "metadata": {
    "pycharm": {
     "name": "#%%\n"
    }
   },
   "outputs": [],
   "source": []
  },
  {
   "cell_type": "code",
   "execution_count": null,
   "metadata": {
    "pycharm": {
     "name": "#%%\n"
    }
   },
   "outputs": [],
   "source": []
  },
  {
   "cell_type": "code",
   "execution_count": null,
   "metadata": {
    "pycharm": {
     "name": "#%%\n"
    }
   },
   "outputs": [],
   "source": []
  },
  {
   "cell_type": "code",
   "execution_count": null,
   "metadata": {
    "pycharm": {
     "name": "#%%\n"
    }
   },
   "outputs": [],
   "source": []
  },
  {
   "cell_type": "code",
   "execution_count": null,
   "metadata": {
    "pycharm": {
     "name": "#%%\n"
    }
   },
   "outputs": [],
   "source": []
  },
  {
   "cell_type": "markdown",
   "metadata": {},
   "source": []
  },
  {
   "cell_type": "code",
   "execution_count": null,
   "metadata": {
    "pycharm": {
     "name": "#%%\n"
    }
   },
   "outputs": [],
   "source": []
  },
  {
   "cell_type": "code",
   "execution_count": null,
   "metadata": {
    "pycharm": {
     "name": "#%%\n"
    }
   },
   "outputs": [],
   "source": []
  }
 ],
 "metadata": {
  "kernelspec": {
   "display_name": "spark_streaming_cv",
   "language": "python",
   "name": "spark_streaming_cv"
  },
  "language_info": {
   "codemirror_mode": {
    "name": "ipython",
    "version": 3
   },
   "file_extension": ".py",
   "mimetype": "text/x-python",
   "name": "python",
   "nbconvert_exporter": "python",
   "pygments_lexer": "ipython3",
   "version": "3.8.8"
  }
 },
 "nbformat": 4,
 "nbformat_minor": 1
}